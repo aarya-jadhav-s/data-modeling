{
 "cells": [
  {
   "cell_type": "code",
   "execution_count": 11,
   "id": "45ddc686-c1e1-46f0-9eeb-6654a7758dca",
   "metadata": {},
   "outputs": [],
   "source": [
    "#Basic Probability\n",
    "#Discrete and continuous random variables\n",
    "import numpy as np\n",
    "import pandas as pd"
   ]
  },
  {
   "cell_type": "code",
   "execution_count": 12,
   "id": "e304df6b-45df-4f72-a530-98674ced29fe",
   "metadata": {},
   "outputs": [
    {
     "data": {
      "text/html": [
       "<div>\n",
       "<style scoped>\n",
       "    .dataframe tbody tr th:only-of-type {\n",
       "        vertical-align: middle;\n",
       "    }\n",
       "\n",
       "    .dataframe tbody tr th {\n",
       "        vertical-align: top;\n",
       "    }\n",
       "\n",
       "    .dataframe thead th {\n",
       "        text-align: right;\n",
       "    }\n",
       "</style>\n",
       "<table border=\"1\" class=\"dataframe\">\n",
       "  <thead>\n",
       "    <tr style=\"text-align: right;\">\n",
       "      <th></th>\n",
       "      <th>Customer_id</th>\n",
       "      <th>Purchases</th>\n",
       "      <th>Amount_Spend</th>\n",
       "    </tr>\n",
       "  </thead>\n",
       "  <tbody>\n",
       "    <tr>\n",
       "      <th>0</th>\n",
       "      <td>1</td>\n",
       "      <td>2</td>\n",
       "      <td>15.5</td>\n",
       "    </tr>\n",
       "    <tr>\n",
       "      <th>1</th>\n",
       "      <td>2</td>\n",
       "      <td>3</td>\n",
       "      <td>25.0</td>\n",
       "    </tr>\n",
       "    <tr>\n",
       "      <th>2</th>\n",
       "      <td>3</td>\n",
       "      <td>4</td>\n",
       "      <td>33.2</td>\n",
       "    </tr>\n",
       "    <tr>\n",
       "      <th>3</th>\n",
       "      <td>4</td>\n",
       "      <td>5</td>\n",
       "      <td>60.0</td>\n",
       "    </tr>\n",
       "    <tr>\n",
       "      <th>4</th>\n",
       "      <td>5</td>\n",
       "      <td>1</td>\n",
       "      <td>22.5</td>\n",
       "    </tr>\n",
       "    <tr>\n",
       "      <th>5</th>\n",
       "      <td>6</td>\n",
       "      <td>5</td>\n",
       "      <td>48.0</td>\n",
       "    </tr>\n",
       "    <tr>\n",
       "      <th>6</th>\n",
       "      <td>7</td>\n",
       "      <td>3</td>\n",
       "      <td>35.0</td>\n",
       "    </tr>\n",
       "    <tr>\n",
       "      <th>7</th>\n",
       "      <td>8</td>\n",
       "      <td>6</td>\n",
       "      <td>14.0</td>\n",
       "    </tr>\n",
       "    <tr>\n",
       "      <th>8</th>\n",
       "      <td>9</td>\n",
       "      <td>1</td>\n",
       "      <td>75.0</td>\n",
       "    </tr>\n",
       "    <tr>\n",
       "      <th>9</th>\n",
       "      <td>10</td>\n",
       "      <td>7</td>\n",
       "      <td>28.0</td>\n",
       "    </tr>\n",
       "  </tbody>\n",
       "</table>\n",
       "</div>"
      ],
      "text/plain": [
       "   Customer_id  Purchases  Amount_Spend\n",
       "0            1          2          15.5\n",
       "1            2          3          25.0\n",
       "2            3          4          33.2\n",
       "3            4          5          60.0\n",
       "4            5          1          22.5\n",
       "5            6          5          48.0\n",
       "6            7          3          35.0\n",
       "7            8          6          14.0\n",
       "8            9          1          75.0\n",
       "9           10          7          28.0"
      ]
     },
     "execution_count": 12,
     "metadata": {},
     "output_type": "execute_result"
    }
   ],
   "source": [
    "data={\"Customer_id\":range(1,11),\n",
    "      \"Purchases\":[2,3,4,5,1,5,3,6,1,7], #DISCRETE RANDOM VARIABLES\n",
    "      \"Amount_Spend\":[15.5, 25.0, 33.2, 60.0, 22.5, 48.0, 35.0, 14.0, 75.0, 28.0] #CONTINUOUS RANDOM VARIABLE\n",
    "}\n",
    "df=pd.DataFrame(data)\n",
    "df"
   ]
  },
  {
   "cell_type": "code",
   "execution_count": 13,
   "id": "2219ff09-57f2-4f72-859e-0f07deb66ce9",
   "metadata": {},
   "outputs": [
    {
     "data": {
      "text/plain": [
       "10"
      ]
     },
     "execution_count": 13,
     "metadata": {},
     "output_type": "execute_result"
    }
   ],
   "source": [
    "total=len(df)\n",
    "total"
   ]
  },
  {
   "cell_type": "code",
   "execution_count": 14,
   "id": "dc2284a2-7d78-416f-a260-9e4471fead6d",
   "metadata": {},
   "outputs": [
    {
     "data": {
      "text/plain": [
       "0    False\n",
       "1     True\n",
       "2     True\n",
       "3     True\n",
       "4    False\n",
       "5     True\n",
       "6     True\n",
       "7     True\n",
       "8    False\n",
       "9     True\n",
       "Name: Purchases, dtype: bool"
      ]
     },
     "execution_count": 14,
     "metadata": {},
     "output_type": "execute_result"
    }
   ],
   "source": [
    "customer2=df[\"Purchases\"]>2\n",
    "customer2"
   ]
  },
  {
   "cell_type": "code",
   "execution_count": 15,
   "id": "4c0af7ca-5b74-45ae-9c0a-1c03d18ddc61",
   "metadata": {},
   "outputs": [],
   "source": [
    "sum=sum(customer2)"
   ]
  },
  {
   "cell_type": "code",
   "execution_count": 16,
   "id": "cf01f42c-519b-4bd0-9aa3-2784e1355986",
   "metadata": {},
   "outputs": [
    {
     "name": "stdout",
     "output_type": "stream",
     "text": [
      "Probability of customers buying more than 2 items is: 0.70\n",
      "Probability is: 0.7\n"
     ]
    }
   ],
   "source": [
    "probab=sum/total\n",
    "print(f\"Probability of customers buying more than 2 items is: {probab:.2f}\")\n",
    "print(\"Probability is:\",probab)"
   ]
  },
  {
   "cell_type": "code",
   "execution_count": 17,
   "id": "325d634f-2af6-4caf-9f38-80b1bf4a8139",
   "metadata": {},
   "outputs": [
    {
     "data": {
      "text/html": [
       "<div>\n",
       "<style scoped>\n",
       "    .dataframe tbody tr th:only-of-type {\n",
       "        vertical-align: middle;\n",
       "    }\n",
       "\n",
       "    .dataframe tbody tr th {\n",
       "        vertical-align: top;\n",
       "    }\n",
       "\n",
       "    .dataframe thead th {\n",
       "        text-align: right;\n",
       "    }\n",
       "</style>\n",
       "<table border=\"1\" class=\"dataframe\">\n",
       "  <thead>\n",
       "    <tr style=\"text-align: right;\">\n",
       "      <th></th>\n",
       "      <th>Gender</th>\n",
       "      <th>Payment_Method</th>\n",
       "    </tr>\n",
       "  </thead>\n",
       "  <tbody>\n",
       "    <tr>\n",
       "      <th>0</th>\n",
       "      <td>Male</td>\n",
       "      <td>Cash</td>\n",
       "    </tr>\n",
       "    <tr>\n",
       "      <th>1</th>\n",
       "      <td>Female</td>\n",
       "      <td>Cash</td>\n",
       "    </tr>\n",
       "    <tr>\n",
       "      <th>2</th>\n",
       "      <td>Male</td>\n",
       "      <td>Card</td>\n",
       "    </tr>\n",
       "    <tr>\n",
       "      <th>3</th>\n",
       "      <td>Female</td>\n",
       "      <td>Card</td>\n",
       "    </tr>\n",
       "    <tr>\n",
       "      <th>4</th>\n",
       "      <td>Male</td>\n",
       "      <td>Cash</td>\n",
       "    </tr>\n",
       "    <tr>\n",
       "      <th>5</th>\n",
       "      <td>Female</td>\n",
       "      <td>Cash</td>\n",
       "    </tr>\n",
       "    <tr>\n",
       "      <th>6</th>\n",
       "      <td>Male</td>\n",
       "      <td>Card</td>\n",
       "    </tr>\n",
       "    <tr>\n",
       "      <th>7</th>\n",
       "      <td>Female</td>\n",
       "      <td>Card</td>\n",
       "    </tr>\n",
       "  </tbody>\n",
       "</table>\n",
       "</div>"
      ],
      "text/plain": [
       "   Gender Payment_Method\n",
       "0    Male           Cash\n",
       "1  Female           Cash\n",
       "2    Male           Card\n",
       "3  Female           Card\n",
       "4    Male           Cash\n",
       "5  Female           Cash\n",
       "6    Male           Card\n",
       "7  Female           Card"
      ]
     },
     "execution_count": 17,
     "metadata": {},
     "output_type": "execute_result"
    }
   ],
   "source": [
    "#Independence\n",
    "data={'Gender': ['Male', 'Female', 'Male', 'Female', 'Male', 'Female', 'Male', 'Female'],\n",
    "    'Payment_Method': ['Cash', 'Cash', 'Card', 'Card', 'Cash', 'Cash', 'Card', 'Card']\n",
    "}\n",
    "df=pd.DataFrame(data)\n",
    "df"
   ]
  },
  {
   "cell_type": "code",
   "execution_count": 18,
   "id": "7e506dda-0df2-4062-b95b-4056cddbe3e2",
   "metadata": {},
   "outputs": [
    {
     "data": {
      "text/plain": [
       "8"
      ]
     },
     "execution_count": 18,
     "metadata": {},
     "output_type": "execute_result"
    }
   ],
   "source": [
    "total=len(df)\n",
    "total"
   ]
  },
  {
   "cell_type": "code",
   "execution_count": 19,
   "id": "4b93d594-1336-4a61-a50c-6e5d3f063659",
   "metadata": {},
   "outputs": [
    {
     "data": {
      "text/plain": [
       "0      Male\n",
       "1    Female\n",
       "2      Male\n",
       "3    Female\n",
       "4      Male\n",
       "5    Female\n",
       "6      Male\n",
       "7    Female\n",
       "Name: Gender, dtype: object"
      ]
     },
     "execution_count": 19,
     "metadata": {},
     "output_type": "execute_result"
    }
   ],
   "source": [
    "df['Gender'] #Show the Gender column"
   ]
  },
  {
   "cell_type": "code",
   "execution_count": 20,
   "id": "05d1da29-4bd9-45cd-8ee3-870a51d4cd51",
   "metadata": {},
   "outputs": [
    {
     "data": {
      "text/plain": [
       "0     True\n",
       "1    False\n",
       "2     True\n",
       "3    False\n",
       "4     True\n",
       "5    False\n",
       "6     True\n",
       "7    False\n",
       "Name: Gender, dtype: bool"
      ]
     },
     "execution_count": 20,
     "metadata": {},
     "output_type": "execute_result"
    }
   ],
   "source": [
    "df['Gender']=='Male' #Show the boolean if Male==True otherwise False"
   ]
  },
  {
   "cell_type": "code",
   "execution_count": 21,
   "id": "9648b99c-4ace-4bfd-aeb8-0019d045e99f",
   "metadata": {},
   "outputs": [
    {
     "data": {
      "text/html": [
       "<div>\n",
       "<style scoped>\n",
       "    .dataframe tbody tr th:only-of-type {\n",
       "        vertical-align: middle;\n",
       "    }\n",
       "\n",
       "    .dataframe tbody tr th {\n",
       "        vertical-align: top;\n",
       "    }\n",
       "\n",
       "    .dataframe thead th {\n",
       "        text-align: right;\n",
       "    }\n",
       "</style>\n",
       "<table border=\"1\" class=\"dataframe\">\n",
       "  <thead>\n",
       "    <tr style=\"text-align: right;\">\n",
       "      <th></th>\n",
       "      <th>Gender</th>\n",
       "      <th>Payment_Method</th>\n",
       "    </tr>\n",
       "  </thead>\n",
       "  <tbody>\n",
       "    <tr>\n",
       "      <th>0</th>\n",
       "      <td>Male</td>\n",
       "      <td>Cash</td>\n",
       "    </tr>\n",
       "    <tr>\n",
       "      <th>2</th>\n",
       "      <td>Male</td>\n",
       "      <td>Card</td>\n",
       "    </tr>\n",
       "    <tr>\n",
       "      <th>4</th>\n",
       "      <td>Male</td>\n",
       "      <td>Cash</td>\n",
       "    </tr>\n",
       "    <tr>\n",
       "      <th>6</th>\n",
       "      <td>Male</td>\n",
       "      <td>Card</td>\n",
       "    </tr>\n",
       "  </tbody>\n",
       "</table>\n",
       "</div>"
      ],
      "text/plain": [
       "  Gender Payment_Method\n",
       "0   Male           Cash\n",
       "2   Male           Card\n",
       "4   Male           Cash\n",
       "6   Male           Card"
      ]
     },
     "execution_count": 21,
     "metadata": {},
     "output_type": "execute_result"
    }
   ],
   "source": [
    "df[df['Gender']=='Male'] \n",
    "#When you pass a boolean Series inside df[ ... ], \n",
    "#Pandas filters the DataFrame: Keeps only rows where the boolean value is True."
   ]
  },
  {
   "cell_type": "code",
   "execution_count": 22,
   "id": "8622432c-5abe-4f37-ac9b-34ebccaf6f0a",
   "metadata": {},
   "outputs": [
    {
     "data": {
      "text/plain": [
       "4"
      ]
     },
     "execution_count": 22,
     "metadata": {},
     "output_type": "execute_result"
    }
   ],
   "source": [
    "len(df[df['Gender']=='Male'])"
   ]
  },
  {
   "cell_type": "code",
   "execution_count": 23,
   "id": "34b8e848-6a5b-4e44-bd02-3b57e881ebe1",
   "metadata": {},
   "outputs": [
    {
     "data": {
      "text/plain": [
       "0.5"
      ]
     },
     "execution_count": 23,
     "metadata": {},
     "output_type": "execute_result"
    }
   ],
   "source": [
    "p_male=len(df[df['Gender']=='Male'])/total\n",
    "p_male"
   ]
  },
  {
   "cell_type": "code",
   "execution_count": 24,
   "id": "031f2b7f-2ac8-45ca-a4a6-0fbd9d3527dd",
   "metadata": {},
   "outputs": [
    {
     "data": {
      "text/plain": [
       "0.5"
      ]
     },
     "execution_count": 24,
     "metadata": {},
     "output_type": "execute_result"
    }
   ],
   "source": [
    "p_cash=len(df[df['Payment_Method']=='Cash'])/total\n",
    "p_cash"
   ]
  },
  {
   "cell_type": "code",
   "execution_count": 25,
   "id": "8c327967-423d-425c-8dca-3cfc57f1c97f",
   "metadata": {},
   "outputs": [
    {
     "data": {
      "text/plain": [
       "0     True\n",
       "1    False\n",
       "2    False\n",
       "3    False\n",
       "4     True\n",
       "5    False\n",
       "6    False\n",
       "7    False\n",
       "dtype: bool"
      ]
     },
     "execution_count": 25,
     "metadata": {},
     "output_type": "execute_result"
    }
   ],
   "source": [
    "(df['Gender']=='Male') & (df['Payment_Method']=='Cash')"
   ]
  },
  {
   "cell_type": "code",
   "execution_count": 26,
   "id": "4f383d58-6228-4ed8-8e01-b925fe9f413e",
   "metadata": {},
   "outputs": [
    {
     "data": {
      "text/html": [
       "<div>\n",
       "<style scoped>\n",
       "    .dataframe tbody tr th:only-of-type {\n",
       "        vertical-align: middle;\n",
       "    }\n",
       "\n",
       "    .dataframe tbody tr th {\n",
       "        vertical-align: top;\n",
       "    }\n",
       "\n",
       "    .dataframe thead th {\n",
       "        text-align: right;\n",
       "    }\n",
       "</style>\n",
       "<table border=\"1\" class=\"dataframe\">\n",
       "  <thead>\n",
       "    <tr style=\"text-align: right;\">\n",
       "      <th></th>\n",
       "      <th>Gender</th>\n",
       "      <th>Payment_Method</th>\n",
       "    </tr>\n",
       "  </thead>\n",
       "  <tbody>\n",
       "    <tr>\n",
       "      <th>0</th>\n",
       "      <td>Male</td>\n",
       "      <td>Cash</td>\n",
       "    </tr>\n",
       "    <tr>\n",
       "      <th>4</th>\n",
       "      <td>Male</td>\n",
       "      <td>Cash</td>\n",
       "    </tr>\n",
       "  </tbody>\n",
       "</table>\n",
       "</div>"
      ],
      "text/plain": [
       "  Gender Payment_Method\n",
       "0   Male           Cash\n",
       "4   Male           Cash"
      ]
     },
     "execution_count": 26,
     "metadata": {},
     "output_type": "execute_result"
    }
   ],
   "source": [
    "df[(df['Gender']=='Male') & (df['Payment_Method']=='Cash')]#& For getting both male in gender and cash in payment method"
   ]
  },
  {
   "cell_type": "code",
   "execution_count": 27,
   "id": "e8c3c7c9-6bbe-4aee-85f2-09417678176e",
   "metadata": {},
   "outputs": [
    {
     "data": {
      "text/plain": [
       "2"
      ]
     },
     "execution_count": 27,
     "metadata": {},
     "output_type": "execute_result"
    }
   ],
   "source": [
    "len(df[(df['Gender']=='Male') & (df['Payment_Method']=='Cash')])"
   ]
  },
  {
   "cell_type": "code",
   "execution_count": 28,
   "id": "685edf02-ef6e-4c0b-814a-2dc956befefd",
   "metadata": {},
   "outputs": [
    {
     "data": {
      "text/plain": [
       "0.25"
      ]
     },
     "execution_count": 28,
     "metadata": {},
     "output_type": "execute_result"
    }
   ],
   "source": [
    "p_both=len(df[(df['Gender']=='Male') & (df['Payment_Method']=='Cash')])/total\n",
    "p_both "
   ]
  },
  {
   "cell_type": "code",
   "execution_count": 29,
   "id": "61c67a86-6abc-4440-ab91-a1f78a57b113",
   "metadata": {},
   "outputs": [
    {
     "name": "stdout",
     "output_type": "stream",
     "text": [
      "Both are Independent\n"
     ]
    }
   ],
   "source": [
    "if p_both==(p_male*p_cash):\n",
    "    print(\"Both are Independent\")\n",
    "else:\n",
    "    print(\"Not Independent\")"
   ]
  },
  {
   "cell_type": "code",
   "execution_count": 30,
   "id": "899ad101-9652-4107-9f61-5729ab26da04",
   "metadata": {},
   "outputs": [],
   "source": [
    "#COVARIANCE\n",
    "hours= np.array([2, 4, 6, 8, 10])\n",
    "scores= np.array([50, 60, 65, 80, 85])"
   ]
  },
  {
   "cell_type": "code",
   "execution_count": 31,
   "id": "b49f5297-084a-47b3-bea0-3d5d5675524c",
   "metadata": {},
   "outputs": [
    {
     "data": {
      "text/plain": [
       "array([[  8.,  36.],\n",
       "       [ 36., 166.]])"
      ]
     },
     "execution_count": 31,
     "metadata": {},
     "output_type": "execute_result"
    }
   ],
   "source": [
    "#np.cov() → NumPy function to calculate a covariance matrix.\n",
    "#bias=True → divides by N instead of N-1 -> means population covarinace\n",
    "cov_matrix= np.cov(hours, scores, bias=True)\n",
    "cov_matrix"
   ]
  },
  {
   "cell_type": "code",
   "execution_count": 32,
   "id": "6cb12640-531c-405e-a1cc-9e7021e22918",
   "metadata": {},
   "outputs": [],
   "source": [
    "# Variance is the covariance with itself\n",
    "#[ [ variance(hours), covariance(hours, scores) ],\n",
    "#  [ covariance(scores, hours), variance(scores) ] ] the above matrix is this."
   ]
  },
  {
   "cell_type": "code",
   "execution_count": 33,
   "id": "bce7dc38-0b1c-403c-8209-76c49d451a91",
   "metadata": {},
   "outputs": [
    {
     "data": {
      "text/plain": [
       "36.0"
      ]
     },
     "execution_count": 33,
     "metadata": {},
     "output_type": "execute_result"
    }
   ],
   "source": [
    "cov_xy = cov_matrix[0, 1] #0 -> Row and 1-> Column element is Cov(hours, scores) \n",
    "cov_xy"
   ]
  },
  {
   "cell_type": "code",
   "execution_count": 34,
   "id": "48ce2ca3-b58a-49f9-aa3b-cd47642dafc4",
   "metadata": {},
   "outputs": [],
   "source": [
    "import matplotlib.pyplot as plt"
   ]
  },
  {
   "cell_type": "code",
   "execution_count": 35,
   "id": "42771d81-dafc-41f0-9aa3-7861b54e8ce7",
   "metadata": {},
   "outputs": [
    {
     "data": {
      "text/plain": [
       "array([ 1,  2,  3,  4,  5,  6,  7,  8,  9, 10])"
      ]
     },
     "execution_count": 35,
     "metadata": {},
     "output_type": "execute_result"
    }
   ],
   "source": [
    "np.random.seed(42)\n",
    "x=np.arange(1, 11)\n",
    "x"
   ]
  },
  {
   "cell_type": "code",
   "execution_count": 36,
   "id": "ff65454f-71b4-4be2-9cd1-bc412e3c1bb4",
   "metadata": {},
   "outputs": [
    {
     "data": {
      "text/plain": [
       "array([ 3,  6,  6, 10, 12, 11, 14, 16, 18, 22])"
      ]
     },
     "execution_count": 36,
     "metadata": {},
     "output_type": "execute_result"
    }
   ],
   "source": [
    "y_pos= x * 2 + np.random.randint(-2, 3, size=10)\n",
    "y_pos\n",
    "#noise = np.random.randint(-2, 3, size=10)\n",
    "#noise is also an random array like this-> noise = [1, 2, 0, 2, 2, -1, 0, 0, 0, 2]\n",
    "#y_pos[i] = 2*x[i] + noise[i]"
   ]
  },
  {
   "cell_type": "code",
   "execution_count": 37,
   "id": "d8306a2d-e7fa-4410-b3d9-2c19352bb8d6",
   "metadata": {},
   "outputs": [
    {
     "data": {
      "image/png": "[encoded data removed]",
      "text/plain": [
       "<Figure size 640x480 with 1 Axes>"
      ]
     },
     "metadata": {},
     "output_type": "display_data"
    }
   ],
   "source": [
    "plt.figure() #figsize=(5, 4)\n",
    "plt.scatter(x, y_pos, color='green')\n",
    "plt.title(\"Positive Covariance\")\n",
    "plt.xlabel(\"X\")\n",
    "plt.ylabel(\"Y\")\n",
    "plt.show()"
   ]
  },
  {
   "cell_type": "code",
   "execution_count": 38,
   "id": "425ec5b5-ddf6-4670-948c-80a692d43f75",
   "metadata": {},
   "outputs": [
    {
     "data": {
      "text/plain": [
       "array([ -1,  -4,  -4,  -9,  -9, -13, -13, -14, -20, -19])"
      ]
     },
     "execution_count": 38,
     "metadata": {},
     "output_type": "execute_result"
    }
   ],
   "source": [
    "y_neg= -x * 2 + np.random.randint(-2, 3, size=10)\n",
    "y_neg"
   ]
  },
  {
   "cell_type": "code",
   "execution_count": 39,
   "id": "5b760016-ea9a-46dd-a3eb-3cdc8bac8412",
   "metadata": {},
   "outputs": [
    {
     "data": {
      "image/png": "[encoded data removed]",
      "text/plain": [
       "<Figure size 640x480 with 1 Axes>"
      ]
     },
     "metadata": {},
     "output_type": "display_data"
    }
   ],
   "source": [
    "plt.figure()\n",
    "plt.scatter(x, y_neg, color='blue')\n",
    "plt.title(\"Negative Covariance\")\n",
    "plt.xlabel(\"X\")\n",
    "plt.ylabel(\"Y\")\n",
    "plt.show()"
   ]
  },
  {
   "cell_type": "code",
   "execution_count": 40,
   "id": "814bd3a0-b9a1-4b0f-bc47-2f172cd03abb",
   "metadata": {},
   "outputs": [
    {
     "data": {
      "text/plain": [
       "array([12, 17, 10, 16, 15, 15, 19, 12,  3,  5])"
      ]
     },
     "execution_count": 40,
     "metadata": {},
     "output_type": "execute_result"
    }
   ],
   "source": [
    "y_zero=np.random.randint(1, 20, size=10) #this is just noise \n",
    "y_zero"
   ]
  },
  {
   "cell_type": "code",
   "execution_count": 41,
   "id": "69456fd5-703e-417a-965d-37fe9f6d38c1",
   "metadata": {},
   "outputs": [
    {
     "data": {
      "image/png": "[encoded data removed]",
      "text/plain": [
       "<Figure size 640x480 with 1 Axes>"
      ]
     },
     "metadata": {},
     "output_type": "display_data"
    }
   ],
   "source": [
    "plt.figure()\n",
    "plt.scatter(x, y_zero, color='red')\n",
    "plt.title(\"Zero Variance\")\n",
    "plt.xlabel('X')\n",
    "plt.ylabel('Y')\n",
    "plt.show()"
   ]
  },
  {
   "cell_type": "code",
   "execution_count": 42,
   "id": "77218dcf-c3bb-4351-81f6-1272f5ea63cd",
   "metadata": {},
   "outputs": [
    {
     "name": "stdout",
     "output_type": "stream",
     "text": [
      "10.0\n",
      "-10.0\n",
      "9.5\n"
     ]
    }
   ],
   "source": [
    "x=[2, 4, 6, 8, 10]\n",
    "y_pos=[2, 4, 6, 8, 10]\n",
    "y_neg=[10, 8, 6, 4, 2]\n",
    "y_zero=[3, 5, 4, 8, 11]\n",
    "def sample(x,y):\n",
    "    return np.cov(x, y, bias=False)[0,1]\n",
    "print(sample(x, y_pos))\n",
    "print(sample(x, y_neg))\n",
    "print(sample(x, y_zero))"
   ]
  },
  {
   "cell_type": "code",
   "execution_count": 43,
   "id": "7e37976e-c48d-41d3-ab13-ec4c101d7230",
   "metadata": {},
   "outputs": [
    {
     "data": {
      "text/plain": [
       "array([ 46.76665103,   9.3480626 ,   3.36319654, ..., 119.65707021,\n",
       "        22.32040585,  11.99801611])"
      ]
     },
     "execution_count": 43,
     "metadata": {},
     "output_type": "execute_result"
    }
   ],
   "source": [
    "#CENTRAL LIMIT THEOREM\n",
    "population= np.random.exponential(scale=50, size=100000) #right skewwed data points=100000 and mean=scale=50\n",
    "population"
   ]
  },
  {
   "cell_type": "code",
   "execution_count": 44,
   "id": "fb3114ef-2a77-4af0-9720-4b5decf019f9",
   "metadata": {},
   "outputs": [
    {
     "data": {
      "text/plain": [
       "<function matplotlib.pyplot.show(close=None, block=None)>"
      ]
     },
     "execution_count": 44,
     "metadata": {},
     "output_type": "execute_result"
    },
    {
     "data": {
      "image/png": "[encoded data removed]",
      "text/plain": [
       "<Figure size 640x480 with 1 Axes>"
      ]
     },
     "metadata": {},
     "output_type": "display_data"
    }
   ],
   "source": [
    "plt.hist(population, bins=50, color='blue', edgecolor='black')\n",
    "plt.title('Right Skewed')\n",
    "plt.show"
   ]
  },
  {
   "cell_type": "code",
   "execution_count": 45,
   "id": "f7c44879-d6b1-435d-8b36-98430175112c",
   "metadata": {},
   "outputs": [],
   "source": [
    "sample_means=[]\n",
    "for _ in range(10000):\n",
    "    sample=np.random.choice(population, size=30, replace='False') \n",
    "    #from population choose 30 random values, replace= without repetition\n",
    "    sample_means.append(np.mean(sample))"
   ]
  },
  {
   "cell_type": "code",
   "execution_count": 46,
   "id": "221cd8dc-4184-4a5d-b5cd-3bd206e58186",
   "metadata": {},
   "outputs": [
    {
     "data": {
      "image/png": "[encoded data removed]",
      "text/plain": [
       "<Figure size 640x480 with 1 Axes>"
      ]
     },
     "metadata": {},
     "output_type": "display_data"
    }
   ],
   "source": [
    "plt.hist(sample_means, bins=50, color='pink', edgecolor='black')\n",
    "plt.title('Normal Distribution')\n",
    "plt.show()"
   ]
  },
  {
   "cell_type": "code",
   "execution_count": null,
   "id": "1501123f-e77d-4d19-ba36-edfc3c5ec8fd",
   "metadata": {},
   "outputs": [],
   "source": []
  }
 ],
 "metadata": {
  "kernelspec": {
   "display_name": "Python 3 (ipykernel)",
   "language": "python",
   "name": "python3"
  },
  "language_info": {
   "codemirror_mode": {
    "name": "ipython",
    "version": 3
   },
   "file_extension": ".py",
   "mimetype": "text/x-python",
   "name": "python",
   "nbconvert_exporter": "python",
   "pygments_lexer": "ipython3",
   "version": "3.12.4"
  }
 },
 "nbformat": 4,
 "nbformat_minor": 5
}
